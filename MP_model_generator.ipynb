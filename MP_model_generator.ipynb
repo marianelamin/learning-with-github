{
  "nbformat": 4,
  "nbformat_minor": 0,
  "metadata": {
    "colab": {
      "name": "MP_model_generator",
      "provenance": [],
      "collapsed_sections": [],
      "toc_visible": true,
      "authorship_tag": "ABX9TyP4CVot/33phJgDj7pqbJGh",
      "include_colab_link": true
    },
    "kernelspec": {
      "name": "python3",
      "display_name": "Python 3"
    },
    "accelerator": "TPU"
  },
  "cells": [
    {
      "cell_type": "markdown",
      "metadata": {
        "id": "view-in-github",
        "colab_type": "text"
      },
      "source": [
        "<a href=\"https://colab.research.google.com/github/marianelamin/learning-with-github/blob/master/MP_model_generator.ipynb\" target=\"_parent\"><img src=\"https://colab.research.google.com/assets/colab-badge.svg\" alt=\"Open In Colab\"/></a>"
      ]
    },
    {
      "cell_type": "code",
      "metadata": {
        "id": "-P-2q1QyIawe",
        "colab_type": "code",
        "colab": {
          "base_uri": "https://localhost:8080/",
          "height": 221
        },
        "outputId": "f0e36401-958f-45d0-fc4e-bde2997eb7e4"
      },
      "source": [
        "from nlu_module.find_corpus import Corpus_all_senate_speeches\n",
        "cor = Corpus_all_senate_speeches(1)\n",
        "print(cor.source_id, ' is (1) ', len(cor.data), \" elements long\")\n",
        "cor = Corpus_all_senate_speeches(1.5)\n",
        "print(cor.source_id, ' is (1.5) ', len(cor.data), \" elements long\")\n",
        "cor = Corpus_all_senate_speeches(2)\n",
        "print(cor.source_id, ' is (2) ', len(cor.data), \" elements long\")\n"
      ],
      "execution_count": 5,
      "outputs": [
        {
          "output_type": "stream",
          "text": [
            "0.650784969329834 seconds to load the corpus of 5021 documents\n",
            "Getting 5020 documents as the corpus. div by 1\n",
            "init corpus done!\n",
            "all_senate_speeches  is (1)  5020  elements long\n",
            "0.7747220993041992 seconds to load the corpus of 5021 documents\n",
            "Getting 3347 documents as the corpus. div by 1.5\n",
            "init corpus done!\n",
            "all_senate_speeches  is (1.5)  3347  elements long\n",
            "0.7185873985290527 seconds to load the corpus of 5021 documents\n",
            "Getting 2510 documents as the corpus. div by 2\n",
            "init corpus done!\n",
            "all_senate_speeches  is (2)  2510  elements long\n"
          ],
          "name": "stdout"
        }
      ]
    },
    {
      "cell_type": "markdown",
      "metadata": {
        "id": "PFoh5_3fQy2b",
        "colab_type": "text"
      },
      "source": [
        "Testing the generate model . . ."
      ]
    },
    {
      "cell_type": "code",
      "metadata": {
        "id": "MK4qM-PARuv3",
        "colab_type": "code",
        "colab": {}
      },
      "source": [
        "from nlu_module.model_generator import generate_a_model\n",
        "\n",
        "print('getting started with running this . . .')\n",
        "generate_a_model()\n",
        "print ('Done!')"
      ],
      "execution_count": 0,
      "outputs": []
    },
    {
      "cell_type": "markdown",
      "metadata": {
        "id": "HF-0eU6qSzGX",
        "colab_type": "text"
      },
      "source": [
        ""
      ]
    },
    {
      "cell_type": "code",
      "metadata": {
        "id": "YjiIpD-QSztK",
        "colab_type": "code",
        "colab": {
          "base_uri": "https://localhost:8080/",
          "height": 1000
        },
        "outputId": "d5dab23e-2803-4571-ad4f-3be800e1c5fd"
      },
      "source": [
        "!python model_generator.py --action=lsa -s -tfidf -svd_c=100"
      ],
      "execution_count": 2,
      "outputs": [
        {
          "output_type": "stream",
          "text": [
            "0.7326171398162842 seconds to load the corpus of 5021 documents\n",
            "Getting 7531 documents as the corpus. div by 0.6666666666666666\n",
            "init corpus done!\n",
            ". . . all_senate_speeches loaded, it took 0.0d 0.0h 0.0m 0.7342863082885742 seconds to load\n",
            "5021 docs loaded!\n",
            "lsa\n",
            "tcmalloc: large alloc 1301528576 bytes == 0x9fb6000 @  0x7fb01e189001 0x7fb018eeb0f5 0x7fb018f4e4d9 0x7fb018f506af 0x7fb018fe69b8 0x50ac25 0x50d390 0x509d48 0x50aa7d 0x50c5b9 0x508245 0x50a080 0x50aa7d 0x50d390 0x508245 0x50a080 0x50aa7d 0x50c5b9 0x508245 0x50a080 0x50aa7d 0x50c5b9 0x509d48 0x50aa7d 0x50c5b9 0x509d48 0x50aa7d 0x50c5b9 0x509d48 0x50aa7d 0x50c5b9\n",
            "***** START *********************************************\n",
            "term by doc matrix with options\n",
            "  (17087, 0)\t0.11099653159117778\n",
            "  (28935, 0)\t0.1469037124589687\n",
            "  (29867, 0)\t0.2439895001385882\n",
            "  (24457, 0)\t0.18285104389176815\n",
            "  (26196, 0)\t0.1816204900066115\n",
            "  (8315, 0)\t0.1841192351738472\n",
            "  (19286, 0)\t0.2853951185301365\n",
            "  (25017, 0)\t0.3660854407585475\n",
            "  (7542, 0)\t0.4473791770361186\n",
            "  (29865, 0)\t0.22941821649884914\n",
            "  (23946, 0)\t0.14290383098207146\n",
            "  (14041, 0)\t0.14796701745787338\n",
            "  (14363, 0)\t0.1528780172987893\n",
            "  (52, 0)\t0.12223959732233822\n",
            "  (521, 0)\t0.10793298828498128\n",
            "  (654, 0)\t0.15762590250738073\n",
            "  (16273, 0)\t0.17575129706803824\n",
            "  (26322, 0)\t0.0794992781566585\n",
            "  (26426, 0)\t0.1597170996941487\n",
            "  (18455, 0)\t0.13220819579578968\n",
            "  (3443, 0)\t0.15817332462051611\n",
            "  (12035, 0)\t0.16161890070039472\n",
            "  (6670, 0)\t0.08782270993010399\n",
            "  (7146, 0)\t0.13104618286747985\n",
            "  (30216, 0)\t0.13220819579578968\n",
            "  :\t:\n",
            "  (10537, 5020)\t0.05312714754035977\n",
            "  (16513, 5020)\t0.09123985291706574\n",
            "  (13268, 5020)\t0.07055210676813838\n",
            "  (18302, 5020)\t0.10919986498829574\n",
            "  (21334, 5020)\t0.20310257542893678\n",
            "  (29264, 5020)\t0.13328669884094962\n",
            "  (26428, 5020)\t0.04408360236174815\n",
            "  (31720, 5020)\t0.05527597527235475\n",
            "  (22872, 5020)\t0.07454179125068872\n",
            "  (29261, 5020)\t0.14868249845327236\n",
            "  (21598, 5020)\t0.05818526160034032\n",
            "  (14039, 5020)\t0.11030092655256546\n",
            "  (11590, 5020)\t0.034918898093950185\n",
            "  (17686, 5020)\t0.047492847261916854\n",
            "  (26324, 5020)\t0.13528101817301322\n",
            "  (18275, 5020)\t0.04054096778811714\n",
            "  (28510, 5020)\t0.07481906813416839\n",
            "  (31545, 5020)\t0.12865412249493624\n",
            "  (24457, 5020)\t0.05838929369525738\n",
            "  (14041, 5020)\t0.047249878675415094\n",
            "  (14363, 5020)\t0.04881809401586638\n",
            "  (18455, 5020)\t0.04221765984453308\n",
            "  (6670, 5020)\t0.1402208566623637\n",
            "  (22709, 5020)\t0.015875749143172743\n",
            "  (19309, 5020)\t0.026514491987489758\n",
            "***** END ***********************************************\n",
            "\n",
            "Computing with TruncatedSVD\n",
            "\tperforming svd . . .\n",
            "\tfit_transform took 2.0165891647338867 seconds\n",
            "\tperforming lsa - np.dot(u_sigma, vt) . . .\n",
            "tcmalloc: large alloc 1301528576 bytes == 0x591ac000 @  0x7fb01e1871e7 0x7fb018eeaf71 0x7fb018f4e55d 0x7fb018f4e7ec 0x7fb018f4517c 0x7fb01918ae0f 0x7fb018fe1600 0x7fb018fe5fba 0x5678b3 0x5a067e 0x7fb018f3a06d 0x50a8af 0x50c5b9 0x508245 0x50a080 0x50aa7d 0x50c5b9 0x508245 0x50a080 0x50aa7d 0x50c5b9 0x509d48 0x50aa7d 0x50c5b9 0x509d48 0x50aa7d 0x50c5b9 0x509d48 0x50aa7d 0x50c5b9 0x508245\n",
            "\tlsa = np.dot(u,vt) operation took 1.6556751728057861 seconds\n",
            "***** START *********************************************\n",
            "SVD_scikilearn\n",
            "            doc_1  ...  doc_5021\n",
            "00      -0.000065  ...  0.000051\n",
            "000      0.014920  ... -0.008560\n",
            "000th    0.000056  ... -0.001068\n",
            "001st    0.000102  ... -0.002316\n",
            "003      0.000045  ... -0.000018\n",
            "...           ...  ...       ...\n",
            "zulus   -0.000061  ...  0.000147\n",
            "zumwalt  0.000002  ... -0.000040\n",
            "zuni     0.000036  ... -0.000144\n",
            "zupa     0.000044  ...  0.000041\n",
            "zurich   0.000016  ...  0.000025\n",
            "\n",
            "[32402 rows x 5021 columns]\n",
            "***** END ***********************************************\n",
            "\n",
            "lsa matrix calculation finished\n",
            "9.912675380706787 seconds for SVD_scikilearn\n",
            "Saving the ndarray using pickle . . . Saving json information to a file . . .\n",
            "Saving the args, word-count, doc-count, rows(words) and columns(doc names) . . .\n",
            "File information in: c_pickle_32402x5021_all_senate_speeches_stop_tfidf_svd100_lsa.json\n",
            "tcmalloc: large alloc 1952292864 bytes == 0xa6ae8000 @  0x7fb01e1882a4 0x592727 0x4dddf7 0x4e3200 0x4e284a 0x4e14d8 0x4e2c5b 0x4e3ac6 0x454557 0x50a9da 0x50d390 0x509d48 0x50aa7d 0x50c5b9 0x509d48 0x50aa7d 0x50c5b9 0x509d48 0x50aa7d 0x50c5b9 0x509d48 0x50aa7d 0x50c5b9 0x508245 0x50b403 0x635222 0x6352d7 0x638a8f 0x639631 0x4b0f40 0x7fb01dd84b97\n",
            "Data in (pickle): c_pickle_32402x5021_all_senate_speeches_stop_tfidf_svd100_lsa.pkl\n",
            "Saving the np.ndarray using np.savez_compressed . . . Saving json information to a file . . .\n",
            "Saving the args, word-count, doc-count, rows(words) and columns(doc names) . . .\n",
            "File information in: compressed_c_np2file_32402x5021_all_senate_speeches_stop_tfidf_svd100_lsa.json\n",
            "np2file Output file: compressed_c_np2file_32402x5021_all_senate_speeches_stop_tfidf_svd100_lsa\n",
            "Saving how long it took to store data on disk . . .\n",
            "\n",
            "Output file: time_report_store_all_senate_speeches_stop_tfidf_svd100_lsa.txt\n",
            "32402 words in the model from 5021 documents\n"
          ],
          "name": "stdout"
        }
      ]
    },
    {
      "cell_type": "markdown",
      "metadata": {
        "id": "yLwkq_bHXIRE",
        "colab_type": "text"
      },
      "source": [
        "Attempting with 2/3 of the entire corpus. . ."
      ]
    },
    {
      "cell_type": "code",
      "metadata": {
        "id": "HNa6bHkPXNAS",
        "colab_type": "code",
        "colab": {
          "base_uri": "https://localhost:8080/",
          "height": 1000
        },
        "outputId": "2b4a86d8-c6ce-45ce-805a-9a9b439470da"
      },
      "source": [
        "!python model_generator.py --action=lsa -s -tfidf -svd_c=100"
      ],
      "execution_count": 3,
      "outputs": [
        {
          "output_type": "stream",
          "text": [
            "0.7597634792327881 seconds to load the corpus of 5021 documents\n",
            "Getting 3347 documents as the corpus. div by 1.5\n",
            "init corpus done!\n",
            ". . . all_senate_speeches loaded, it took 0.0d 0.0h 0.0m 0.7612559795379639 seconds to load\n",
            "3347 docs loaded!\n",
            "lsa\n",
            "***** START *********************************************\n",
            "term by doc matrix with options\n",
            "  (14729, 0)\t0.11217652552799069\n",
            "  (24883, 0)\t0.14791150654583535\n",
            "  (25680, 0)\t0.2406724800181739\n",
            "  (21017, 0)\t0.18741568243746495\n",
            "  (22490, 0)\t0.18588917406474328\n",
            "  (7165, 0)\t0.18702886675510164\n",
            "  (16617, 0)\t0.2774814669128115\n",
            "  (21504, 0)\t0.3567635626637611\n",
            "  (6499, 0)\t0.44430768409747323\n",
            "  (25678, 0)\t0.22681304247851103\n",
            "  (20568, 0)\t0.1458231106076012\n",
            "  (12130, 0)\t0.15293857221237137\n",
            "  (12399, 0)\t0.15597166720111683\n",
            "  (37, 0)\t0.12471382902660119\n",
            "  (448, 0)\t0.10956230704793761\n",
            "  (562, 0)\t0.1588411178385011\n",
            "  (14047, 0)\t0.17742365086129352\n",
            "  (22594, 0)\t0.08092047238666945\n",
            "  (22682, 0)\t0.1634359264305164\n",
            "  (15918, 0)\t0.13256022262520856\n",
            "  (2969, 0)\t0.16277923075153194\n",
            "  (10419, 0)\t0.16299699998618516\n",
            "  (5724, 0)\t0.08961619420771524\n",
            "  (6141, 0)\t0.13418741463662523\n",
            "  (25976, 0)\t0.134744006388792\n",
            "  :\t:\n",
            "  (22677, 3346)\t0.05311783966898113\n",
            "  (2593, 3346)\t0.07053836708338738\n",
            "  (14478, 3346)\t0.08519529208669019\n",
            "  (2486, 3346)\t0.12036927593759465\n",
            "  (6015, 3346)\t0.08363469974377875\n",
            "  (6016, 3346)\t0.05988465002734201\n",
            "  (14255, 3346)\t0.039810410486788676\n",
            "  (4899, 3346)\t0.05851248971747958\n",
            "  (25861, 3346)\t0.0698927796074266\n",
            "  (15795, 3346)\t0.29152533859363977\n",
            "  (27234, 3346)\t0.17308958483593537\n",
            "  (8627, 3346)\t0.19254001611961546\n",
            "  (19636, 3346)\t0.09657273879281339\n",
            "  (11067, 3346)\t0.05600741117887502\n",
            "  (25165, 3346)\t0.11711435718016219\n",
            "  (18550, 3346)\t0.03800797121318259\n",
            "  (15265, 3346)\t0.12433902837532139\n",
            "  (22596, 3346)\t0.08843530207220011\n",
            "  (2129, 3346)\t0.11583511031790061\n",
            "  (27125, 3346)\t0.04188439998443577\n",
            "  (17596, 3346)\t0.06150420940026826\n",
            "  (14729, 3346)\t0.04615896040817839\n",
            "  (5724, 3346)\t0.14750288764589617\n",
            "  (19494, 3346)\t0.04169108304970693\n",
            "  (16636, 3346)\t0.017454917347242388\n",
            "***** END ***********************************************\n",
            "\n",
            "Computing with TruncatedSVD\n",
            "\tperforming svd . . .\n",
            "\tfit_transform took 1.4392921924591064 seconds\n",
            "\tperforming lsa - np.dot(u_sigma, vt) . . .\n",
            "\tlsa = np.dot(u,vt) operation took 1.240325689315796 seconds\n",
            "***** START *********************************************\n",
            "SVD_scikilearn\n",
            "             doc_1  ...  doc_3347\n",
            "00        0.000008  ...  0.000414\n",
            "000       0.007637  ...  0.005271\n",
            "000th     0.000388  ... -0.000271\n",
            "001st    -0.000036  ...  0.000030\n",
            "003       0.000016  ... -0.000143\n",
            "...            ...  ...       ...\n",
            "zoomed   -0.000045  ...  0.000069\n",
            "zorinsky -0.000055  ...  0.000972\n",
            "zqd       0.000007  ... -0.000046\n",
            "zuni      0.000072  ... -0.000038\n",
            "zupa      0.000042  ...  0.000068\n",
            "\n",
            "[27869 rows x 3347 columns]\n",
            "***** END ***********************************************\n",
            "\n",
            "lsa matrix calculation finished\n",
            "6.784172534942627 seconds for SVD_scikilearn\n",
            "Saving the ndarray using pickle . . . Saving json information to a file . . .\n",
            "Saving the args, word-count, doc-count, rows(words) and columns(doc names) . . .\n",
            "File information in: c_pickle_27869x3347_all_senate_speeches_stop_tfidf_svd100_lsa.json\n",
            "tcmalloc: large alloc 1119338496 bytes == 0x61a90000 @  0x7f61aa62f2a4 0x592727 0x4dddf7 0x4e3200 0x4e284a 0x4e14d8 0x4e2c5b 0x4e3ac6 0x454557 0x50a9da 0x50d390 0x509d48 0x50aa7d 0x50c5b9 0x509d48 0x50aa7d 0x50c5b9 0x509d48 0x50aa7d 0x50c5b9 0x509d48 0x50aa7d 0x50c5b9 0x508245 0x50b403 0x635222 0x6352d7 0x638a8f 0x639631 0x4b0f40 0x7f61aa22bb97\n",
            "Data in (pickle): c_pickle_27869x3347_all_senate_speeches_stop_tfidf_svd100_lsa.pkl\n",
            "Saving the np.ndarray using np.savez_compressed . . . Saving json information to a file . . .\n",
            "Saving the args, word-count, doc-count, rows(words) and columns(doc names) . . .\n",
            "File information in: compressed_c_np2file_27869x3347_all_senate_speeches_stop_tfidf_svd100_lsa.json\n",
            "np2file Output file: compressed_c_np2file_27869x3347_all_senate_speeches_stop_tfidf_svd100_lsa\n",
            "Saving how long it took to store data on disk . . .\n",
            "\n",
            "Output file: time_report_store_all_senate_speeches_stop_tfidf_svd100_lsa.txt\n",
            "27869 words in the model from 3347 documents\n"
          ],
          "name": "stdout"
        }
      ]
    }
  ]
}