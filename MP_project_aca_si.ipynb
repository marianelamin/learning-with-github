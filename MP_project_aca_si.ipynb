{
  "nbformat": 4,
  "nbformat_minor": 0,
  "metadata": {
    "colab": {
      "name": "MP project - aca si",
      "provenance": [],
      "collapsed_sections": [],
      "authorship_tag": "ABX9TyM1R7AlquGxKNPgWJDXstxk",
      "include_colab_link": true
    },
    "kernelspec": {
      "name": "python3",
      "display_name": "Python 3"
    },
    "accelerator": "TPU"
  },
  "cells": [
    {
      "cell_type": "markdown",
      "metadata": {
        "id": "view-in-github",
        "colab_type": "text"
      },
      "source": [
        "<a href=\"https://colab.research.google.com/github/marianelamin/learning-with-github/blob/master/MP_project_aca_si.ipynb\" target=\"_parent\"><img src=\"https://colab.research.google.com/assets/colab-badge.svg\" alt=\"Open In Colab\"/></a>"
      ]
    },
    {
      "cell_type": "code",
      "metadata": {
        "id": "7C_JbXNh-c2m",
        "colab_type": "code",
        "colab": {}
      },
      "source": [
        "import nltk\n",
        "nltk.download('movie_reviews')\n"
      ],
      "execution_count": 0,
      "outputs": []
    },
    {
      "cell_type": "code",
      "metadata": {
        "id": "R1mpUWlSEpiE",
        "colab_type": "code",
        "colab": {
          "base_uri": "https://localhost:8080/",
          "height": 1000
        },
        "outputId": "a13c3ec5-36eb-474b-af39-d2fe1fe7f343"
      },
      "source": [
        "!python test_model_generator.py --action=lsa -s -tfidf"
      ],
      "execution_count": 1,
      "outputs": [
        {
          "output_type": "stream",
          "text": [
            "\n",
            "tcmalloc: large alloc 3031965696 bytes == 0x5deda000 @  0x7f1f9d8432a4 0x4bf102 0x4bf64a 0x4bfabc 0x551b81 0x5aa6ec 0x50abb3 0x50c5b9 0x509d48 0x50aa7d 0x50c5b9 0x509d48 0x50aa7d 0x50c5b9 0x508245 0x5096b7 0x595311 0x54a6ff 0x551b81 0x5aa6ec 0x50abb3 0x50c5b9 0x509d48 0x50aa7d 0x50c5b9 0x509455 0x595311 0x54a6ff 0x551b81 0x5aa6ec 0x50abb3\n",
            "18.41251826286316 s to load the entire corpus of 135759 documents\n",
            "Getting 9050 documents as the corpus. div by 15\n",
            "init corpus done!\n",
            ". . . all_senate_speeches loaded, it took 0.0d 0.0h 0.0m 18.43035054206848 seconds to load\n",
            "9050 docs loaded!\n",
            "lsa\n",
            "tcmalloc: large alloc 2965069824 bytes == 0x2101a000 @  0x7f1f9d844001 0x7f1f9b0900f5 0x7f1f9b0f34d9 0x7f1f9b0f56af 0x7f1f9b18b9b8 0x50ac25 0x50d390 0x509d48 0x50aa7d 0x50c5b9 0x508245 0x50a080 0x50aa7d 0x50d390 0x508245 0x50a080 0x50aa7d 0x50c5b9 0x508245 0x50a080 0x50aa7d 0x50c5b9 0x509d48 0x50aa7d 0x50c5b9 0x509d48 0x50aa7d 0x50c5b9 0x509d48 0x50aa7d 0x50c5b9\n",
            "***** START *********************************************\n",
            "term by doc matrix with options\n",
            "  (21499, 0)\t0.11017376501135065\n",
            "  (36545, 0)\t0.14712235044587404\n",
            "  (37738, 0)\t0.24698192098145244\n",
            "  (30925, 0)\t0.18238123126627137\n",
            "  (33099, 0)\t0.18127233396720535\n",
            "  (10443, 0)\t0.1835208285524508\n",
            "  (24353, 0)\t0.28538175897485946\n",
            "  (31589, 0)\t0.37098264169798395\n",
            "  (9474, 0)\t0.45163774337455176\n",
            "  (37734, 0)\t0.2274657042083768\n",
            "  (30289, 0)\t0.14098174599293287\n",
            "  (17644, 0)\t0.1436350690431996\n",
            "  (18068, 0)\t0.1500264352741273\n",
            "  (70, 0)\t0.12236628936800653\n",
            "  (649, 0)\t0.10701554620451202\n",
            "  (817, 0)\t0.15427126427180685\n",
            "  (20428, 0)\t0.1757754710591606\n",
            "  (33254, 0)\t0.07866246858185072\n",
            "  (33394, 0)\t0.15790476605958115\n",
            "  (23268, 0)\t0.13111300815575716\n",
            "  (4358, 0)\t0.15520443273812232\n",
            "  (15046, 0)\t0.15782731481754234\n",
            "  (8448, 0)\t0.08533931007006136\n",
            "  (9004, 0)\t0.13071060687719097\n",
            "  (38165, 0)\t0.13192980723439102\n",
            "  :\t:\n",
            "  (17224, 9049)\t0.11468753034600666\n",
            "  (4001, 9049)\t0.1433481213181256\n",
            "  (2694, 9049)\t0.11761359812461715\n",
            "  (39574, 9049)\t0.2676987641673687\n",
            "  (25834, 9049)\t0.17135863848946312\n",
            "  (10426, 9049)\t0.09785683872176508\n",
            "  (19094, 9049)\t0.0960308569347452\n",
            "  (23784, 9049)\t0.14959025903771261\n",
            "  (19222, 9049)\t0.12750804872546737\n",
            "  (37240, 9049)\t0.06312992815888524\n",
            "  (22589, 9049)\t0.13588811059522535\n",
            "  (40433, 9049)\t0.20119439247978857\n",
            "  (14204, 9049)\t0.1513289555219064\n",
            "  (31335, 9049)\t0.11410304427877462\n",
            "  (39701, 9049)\t0.17894107761966793\n",
            "  (37154, 9049)\t0.11655605900981472\n",
            "  (33257, 9049)\t0.15466242368025146\n",
            "  (25886, 9049)\t0.10832111350803597\n",
            "  (3125, 9049)\t0.20321113476758995\n",
            "  (4358, 9049)\t0.11468753034600666\n",
            "  (9004, 9049)\t0.0965879416476913\n",
            "  (38165, 9049)\t0.09748886358334359\n",
            "  (4004, 9049)\t0.08087804257780767\n",
            "  (28747, 9049)\t0.03658626496564849\n",
            "  (24389, 9049)\t0.06090506816294889\n",
            "***** END ***********************************************\n",
            "\n",
            "Computing with TruncatedSVD\n",
            "\tperforming svd . . .\n",
            "\tfit_transform took 3.8170559406280518 seconds\n",
            "\tperforming lsa - np.dot(u_sigma, vt) . . .\n",
            "tcmalloc: large alloc 2965069824 bytes == 0x112ab8000 @  0x7f1f9d8421e7 0x7f1f9b08ff71 0x7f1f9b0f355d 0x7f1f9b0f37ec 0x7f1f9b0ea17c 0x7f1f9b32fe0f 0x7f1f9b186600 0x7f1f9b18afba 0x5678b3 0x5a067e 0x7f1f9b0df06d 0x50a8af 0x50c5b9 0x508245 0x50a080 0x50aa7d 0x50c5b9 0x508245 0x50a080 0x50aa7d 0x50c5b9 0x509d48 0x50aa7d 0x50c5b9 0x509d48 0x50aa7d 0x50c5b9 0x509d48 0x50aa7d 0x50c5b9 0x508245\n",
            "\tlsa = np.dot(u,vt) operation took 3.8298676013946533 seconds\n",
            "***** START *********************************************\n",
            "SVD_scikilearn\n",
            "           doc_1  ...  doc_9050\n",
            "00      0.001462  ...  0.000552\n",
            "000     0.015624  ...  0.002069\n",
            "000th   0.000184  ...  0.001505\n",
            "001st   0.000037  ...  0.001819\n",
            "002    -0.000027  ... -0.000027\n",
            "...          ...  ...       ...\n",
            "zuni    0.000030  ...  0.000070\n",
            "zupa    0.000026  ... -0.000018\n",
            "zurich  0.000014  ...  0.000040\n",
            "zuris  -0.000003  ... -0.000003\n",
            "zz     -0.000195  ... -0.000223\n",
            "\n",
            "[40954 rows x 9050 columns]\n",
            "***** END ***********************************************\n",
            "\n",
            "lsa matrix calculation finished\n",
            "20.039167881011963 seconds for SVD_scikilearn\n",
            "Saving the ndarray using pickle . . . Saving json information to a file . . .\n",
            "Saving the args, word-count, doc-count, rows(words) and columns(doc names) . . .\n",
            "File information in: c_pickle_40954x9050_all_senate_speeches_stop_tfidf_svd100_lsa.json\n",
            "tcmalloc: large alloc 2965069824 bytes == 0x1ee14000 @  0x7f1f9d8421e7 0x5929fc 0x7f1f9b1829dd 0x567322 0x5a5611 0x7f1f9b183688 0x567322 0x5a5611 0x4e2c0e 0x4e3ac6 0x454557 0x50a9da 0x50d390 0x509d48 0x50aa7d 0x50c5b9 0x509d48 0x50aa7d 0x50c5b9 0x509d48 0x50aa7d 0x50c5b9 0x509d48 0x50aa7d 0x50c5b9 0x508245 0x50a080 0x50aa7d 0x50c5b9 0x508245 0x50a080\n",
            "tcmalloc: large alloc 4447608832 bytes == 0x1c3e6e000 @  0x7f1f9d8432a4 0x592727 0x4dddf7 0x4e3200 0x4e284a 0x4e14d8 0x4e2c5b 0x4e3ac6 0x454557 0x50a9da 0x50d390 0x509d48 0x50aa7d 0x50c5b9 0x509d48 0x50aa7d 0x50c5b9 0x509d48 0x50aa7d 0x50c5b9 0x509d48 0x50aa7d 0x50c5b9 0x508245 0x50a080 0x50aa7d 0x50c5b9 0x508245 0x50a080 0x50aa7d 0x50c5b9\n",
            "Data in (pickle): c_pickle_40954x9050_all_senate_speeches_stop_tfidf_svd100_lsa.pkl\n",
            "Saving the np.ndarray using np.savez_compressed . . . Saving json information to a file . . .\n",
            "Saving the args, word-count, doc-count, rows(words) and columns(doc names) . . .\n",
            "File information in: compressed_c_np2file_40954x9050_all_senate_speeches_stop_tfidf_svd100_lsa.json\n",
            "np2file Output file: compressed_c_np2file_40954x9050_all_senate_speeches_stop_tfidf_svd100_lsa\n",
            "Saving how long it took to store data on disk . . .\n",
            "\n",
            "Output file: time_report_store_all_senate_speeches_stop_tfidf_svd100_lsa.txt\n",
            "40954 words in the model from 9050 documents\n",
            "The program took 237.2576074120002 seconds\n",
            "The program took 0.0 day,  0.0 hr,  3.0 min,  57.2576074120002 seconds to complete\n"
          ],
          "name": "stdout"
        }
      ]
    },
    {
      "cell_type": "markdown",
      "metadata": {
        "id": "wHm4PiR4DhHU",
        "colab_type": "text"
      },
      "source": [
        "## Tests with an nth of the All-senate-speeches corpus\n",
        "I noticed that the script gets killed by the OS when using a 10th of the corpus.\n",
        "\n",
        "Would this be because of the number of documents? or because of the number of words?\n",
        "\n",
        "The big issue occurs when computing the matrix multiplication so that we get the lsa.\n",
        "\n",
        "\n"
      ]
    }
  ]
}